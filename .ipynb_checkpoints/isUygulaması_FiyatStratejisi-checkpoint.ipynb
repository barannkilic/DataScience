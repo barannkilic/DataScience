{
 "cells": [
  {
   "cell_type": "code",
   "execution_count": 1,
   "id": "e62de7e7-74a1-40e5-8a29-53e7ac25770a",
   "metadata": {},
   "outputs": [],
   "source": [
    "import numpy as np\n",
    "fiyatlar = np.random.randint(10,110,1000)"
   ]
  },
  {
   "cell_type": "code",
   "execution_count": 2,
   "id": "c1c3079e-9dd4-45cc-92c5-22351a21055e",
   "metadata": {},
   "outputs": [
    {
     "data": {
      "text/plain": [
       "58.53"
      ]
     },
     "execution_count": 2,
     "metadata": {},
     "output_type": "execute_result"
    }
   ],
   "source": [
    "fiyatlar.mean()"
   ]
  },
  {
   "cell_type": "code",
   "execution_count": 3,
   "id": "d28cdc19-05e1-4952-aff3-6e07b427e8c5",
   "metadata": {},
   "outputs": [],
   "source": [
    "import statsmodels.stats.api as sms"
   ]
  },
  {
   "cell_type": "code",
   "execution_count": 4,
   "id": "04243c88-fbd6-4f14-87b4-e1a32687f428",
   "metadata": {},
   "outputs": [
    {
     "data": {
      "text/plain": [
       "(56.737169574942584, 60.32283042505742)"
      ]
     },
     "execution_count": 4,
     "metadata": {},
     "output_type": "execute_result"
    }
   ],
   "source": [
    "sms.DescrStatsW(fiyatlar).tconfint_mean()"
   ]
  },
  {
   "cell_type": "code",
   "execution_count": null,
   "id": "148570ca-9bea-4811-930c-8965cdc0e45f",
   "metadata": {},
   "outputs": [],
   "source": [
    "##Cikaracak oldugumuz urunu satin almak uzere kullanilan\n",
    "#goze aldigi ucret istatistiksel olarak %95 guvenilirlikle\n",
    "#56-60 arasindadir."
   ]
  },
  {
   "cell_type": "code",
   "execution_count": null,
   "id": "3f1e5284-ab45-4e15-ada4-3312f7ebc454",
   "metadata": {},
   "outputs": [],
   "source": []
  },
  {
   "cell_type": "code",
   "execution_count": null,
   "id": "bf59dce9-d083-4e0b-a278-279c9ac802e5",
   "metadata": {},
   "outputs": [],
   "source": []
  },
  {
   "cell_type": "code",
   "execution_count": null,
   "id": "6da9c7ea-c9ec-4a68-bdf0-6dce56620365",
   "metadata": {},
   "outputs": [],
   "source": []
  }
 ],
 "metadata": {
  "kernelspec": {
   "display_name": "Python 3 (ipykernel)",
   "language": "python",
   "name": "python3"
  },
  "language_info": {
   "codemirror_mode": {
    "name": "ipython",
    "version": 3
   },
   "file_extension": ".py",
   "mimetype": "text/x-python",
   "name": "python",
   "nbconvert_exporter": "python",
   "pygments_lexer": "ipython3",
   "version": "3.9.13"
  }
 },
 "nbformat": 4,
 "nbformat_minor": 5
}
