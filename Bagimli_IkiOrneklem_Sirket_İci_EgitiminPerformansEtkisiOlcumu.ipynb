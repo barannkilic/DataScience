{
 "cells": [
  {
   "cell_type": "markdown",
   "id": "8f9436ea-94dd-41cf-89f5-a13f014d98c0",
   "metadata": {},
   "source": [
    "## Bağımlı İki Örneklem Testi"
   ]
  },
  {
   "cell_type": "code",
   "execution_count": 85,
   "id": "7592ea58-d68f-41f5-97e0-34594576daf2",
   "metadata": {},
   "outputs": [],
   "source": [
    "import pandas as pd\n",
    "oncesi = pd.DataFrame([123,119,119,116,123,123,121,120,117,118,121,121,123,\n",
    "                      119,121,118,124,121,125,115,115,119,118,121,117,117,120,\n",
    "                      120,121,117,118,117,123,118,124,121,115,118,125,115])\n",
    "\n",
    "sonrasi = pd.DataFrame([118,127,122,132,129,123,129,132,128,130,128,138,140,\n",
    "                       130,134,134,124,140,134,129,129,138,134,124,122,126,133,\n",
    "                       127,130,130,130,132,117,130,125,129,133,120,127,123])"
   ]
  },
  {
   "cell_type": "code",
   "execution_count": 86,
   "id": "92769060-9855-4e47-bbf5-e53a4cb8ca29",
   "metadata": {},
   "outputs": [
    {
     "data": {
      "text/html": [
       "<div>\n",
       "<style scoped>\n",
       "    .dataframe tbody tr th:only-of-type {\n",
       "        vertical-align: middle;\n",
       "    }\n",
       "\n",
       "    .dataframe tbody tr th {\n",
       "        vertical-align: top;\n",
       "    }\n",
       "\n",
       "    .dataframe thead th {\n",
       "        text-align: right;\n",
       "    }\n",
       "</style>\n",
       "<table border=\"1\" class=\"dataframe\">\n",
       "  <thead>\n",
       "    <tr style=\"text-align: right;\">\n",
       "      <th></th>\n",
       "      <th>0</th>\n",
       "    </tr>\n",
       "  </thead>\n",
       "  <tbody>\n",
       "    <tr>\n",
       "      <th>0</th>\n",
       "      <td>123</td>\n",
       "    </tr>\n",
       "    <tr>\n",
       "      <th>1</th>\n",
       "      <td>119</td>\n",
       "    </tr>\n",
       "    <tr>\n",
       "      <th>2</th>\n",
       "      <td>119</td>\n",
       "    </tr>\n",
       "    <tr>\n",
       "      <th>3</th>\n",
       "      <td>116</td>\n",
       "    </tr>\n",
       "    <tr>\n",
       "      <th>4</th>\n",
       "      <td>123</td>\n",
       "    </tr>\n",
       "  </tbody>\n",
       "</table>\n",
       "</div>"
      ],
      "text/plain": [
       "     0\n",
       "0  123\n",
       "1  119\n",
       "2  119\n",
       "3  116\n",
       "4  123"
      ]
     },
     "execution_count": 86,
     "metadata": {},
     "output_type": "execute_result"
    }
   ],
   "source": [
    "oncesi[0:5] #egitimden onceki performans degerleri"
   ]
  },
  {
   "cell_type": "code",
   "execution_count": 87,
   "id": "b35523c4-a928-4317-9848-532378ff0b7d",
   "metadata": {},
   "outputs": [
    {
     "data": {
      "text/html": [
       "<div>\n",
       "<style scoped>\n",
       "    .dataframe tbody tr th:only-of-type {\n",
       "        vertical-align: middle;\n",
       "    }\n",
       "\n",
       "    .dataframe tbody tr th {\n",
       "        vertical-align: top;\n",
       "    }\n",
       "\n",
       "    .dataframe thead th {\n",
       "        text-align: right;\n",
       "    }\n",
       "</style>\n",
       "<table border=\"1\" class=\"dataframe\">\n",
       "  <thead>\n",
       "    <tr style=\"text-align: right;\">\n",
       "      <th></th>\n",
       "      <th>0</th>\n",
       "    </tr>\n",
       "  </thead>\n",
       "  <tbody>\n",
       "    <tr>\n",
       "      <th>0</th>\n",
       "      <td>118</td>\n",
       "    </tr>\n",
       "    <tr>\n",
       "      <th>1</th>\n",
       "      <td>127</td>\n",
       "    </tr>\n",
       "    <tr>\n",
       "      <th>2</th>\n",
       "      <td>122</td>\n",
       "    </tr>\n",
       "    <tr>\n",
       "      <th>3</th>\n",
       "      <td>132</td>\n",
       "    </tr>\n",
       "    <tr>\n",
       "      <th>4</th>\n",
       "      <td>129</td>\n",
       "    </tr>\n",
       "  </tbody>\n",
       "</table>\n",
       "</div>"
      ],
      "text/plain": [
       "     0\n",
       "0  118\n",
       "1  127\n",
       "2  122\n",
       "3  132\n",
       "4  129"
      ]
     },
     "execution_count": 87,
     "metadata": {},
     "output_type": "execute_result"
    }
   ],
   "source": [
    "sonrasi[0:5] #egitimden sonraki performans degerleri"
   ]
  },
  {
   "cell_type": "markdown",
   "id": "58afc301-eb6e-4c1e-8214-5616a5e1a91a",
   "metadata": {},
   "source": [
    "## BIRINCI VERI TIPI"
   ]
  },
  {
   "cell_type": "code",
   "execution_count": 88,
   "id": "c5d5d8e8-2183-4308-b077-8e41838fa07c",
   "metadata": {},
   "outputs": [
    {
     "name": "stdout",
     "output_type": "stream",
     "text": [
      "'AYRIK' Veri Seti: \n",
      "\n",
      "    ONCESI  SONRASI\n",
      "0     123      118\n",
      "1     119      127\n",
      "2     119      122\n",
      "3     116      132\n",
      "4     123      129 \n",
      "\n",
      "\n"
     ]
    }
   ],
   "source": [
    "AYRIK = pd.concat([oncesi,sonrasi], axis = 1) #veri isimleri yazilir.\n",
    "AYRIK.columns = [\"ONCESI\",\"SONRASI\"] # sütun isimleri yazılıyor\n",
    "print(\"'AYRIK' Veri Seti: \\n\\n\", AYRIK.head(),\"\\n\\n\")"
   ]
  },
  {
   "cell_type": "markdown",
   "id": "4b6e5216-e004-4f22-8433-c0042908f415",
   "metadata": {},
   "source": [
    "## IKINCI VERI TIPI__Burada yapılan verileri surekli olarak yukarıdan asagı yazıp ne olduklarını isaretliyoruz"
   ]
  },
  {
   "cell_type": "code",
   "execution_count": 89,
   "id": "a356e30f-032d-40af-a553-09d52bc3b20f",
   "metadata": {},
   "outputs": [
    {
     "name": "stdout",
     "output_type": "stream",
     "text": [
      "'BIRLIKTE' Veri Seti: \n",
      "\n",
      "    PERFORMANS ONCESI_SONRASI\n",
      "0         123         ONCESI\n",
      "1         119         ONCESI\n",
      "2         119         ONCESI\n",
      "3         116         ONCESI\n",
      "4         123         ONCESI \n",
      "\n"
     ]
    }
   ],
   "source": [
    "import numpy as np\n",
    "# ONCESI FLAG/TAG'INI OLUSTURMA\n",
    "GRUP_ONCESI = np.arange(len(oncesi))\n",
    "GRUP_ONCESI = pd.DataFrame(GRUP_ONCESI)\n",
    "GRUP_ONCESI[:] = \"ONCESI\"\n",
    "\n",
    "# FLAG VE \"ONCESI\" DEGERLERINI BIR ARAYA GETIRME\n",
    "A = pd.concat([oncesi, GRUP_ONCESI], axis = 1) #oncesi degerleri ve yanına \n",
    "#ONCESİ yazılıyor\n",
    "\n",
    "# SONRASI FLAG/TAG'INI OLUSTURMA\n",
    "GRUP_SONRASI = np.arange(len(sonrasi))\n",
    "GRUP_SONRASI = pd.DataFrame(GRUP_SONRASI)\n",
    "GRUP_SONRASI[:] = \"SONRASI\"\n",
    "\n",
    "#FLAG VE \"SONRASI\" DEGERLERINI BIR ARAYA GETIRME\n",
    "B = pd.concat([sonrasi, GRUP_SONRASI], axis = 1) #sonrasi degerleri ve yanına \n",
    "#SONRASI yazılıyor \n",
    "\n",
    "#TUM VERIYI BIR ARAYA GETIRME\n",
    "BIRLIKTE = pd.concat([A,B])\n",
    "BIRLIKTE\n",
    "\n",
    "#ISIMLENDIRME\n",
    "BIRLIKTE.columns = [\"PERFORMANS\",\"ONCESI_SONRASI\"]\n",
    "print(\"'BIRLIKTE' Veri Seti: \\n\\n\",BIRLIKTE.head(),\"\\n\")"
   ]
  },
  {
   "cell_type": "markdown",
   "id": "d309d136-104d-4125-a551-1e2697a44853",
   "metadata": {},
   "source": [
    "## Ikı farklı veri olusturma tipi asagıdadır."
   ]
  },
  {
   "cell_type": "code",
   "execution_count": 90,
   "id": "3bda905e-2426-4d45-9fce-74fba1e37550",
   "metadata": {},
   "outputs": [
    {
     "name": "stdout",
     "output_type": "stream",
     "text": [
      "'AYRIK' Veri Seti: \n",
      "\n",
      "    ONCESI  SONRASI\n",
      "0     123      118\n",
      "1     119      127\n",
      "2     119      122\n",
      "3     116      132\n",
      "4     123      129 \n",
      "\n",
      "\n",
      "'BIRLIKTE' Veri Seti: \n",
      "\n",
      "    PERFORMANS ONCESI_SONRASI\n",
      "0         123         ONCESI\n",
      "1         119         ONCESI\n",
      "2         119         ONCESI\n",
      "3         116         ONCESI\n",
      "4         123         ONCESI \n",
      "\n"
     ]
    }
   ],
   "source": [
    "print(\"'AYRIK' Veri Seti: \\n\\n\", AYRIK.head(),\"\\n\\n\")\n",
    "print(\"'BIRLIKTE' Veri Seti: \\n\\n\",BIRLIKTE.head(),\"\\n\")"
   ]
  },
  {
   "cell_type": "code",
   "execution_count": 91,
   "id": "a95a1510-9128-40fb-9081-30f523fe1ce8",
   "metadata": {},
   "outputs": [
    {
     "data": {
      "image/png": "[encoded data removed]",
      "text/plain": [
       "<Figure size 640x480 with 1 Axes>"
      ]
     },
     "metadata": {},
     "output_type": "display_data"
    }
   ],
   "source": [
    "import seaborn as sns\n",
    "sns.boxplot(x = \"ONCESI_SONRASI\", y = \"PERFORMANS\", data = BIRLIKTE);"
   ]
  },
  {
   "cell_type": "markdown",
   "id": "75ad9ba6-1214-4e2b-85e7-42975f9f462e",
   "metadata": {},
   "source": [
    "Yukarı da var olan nokta. ONCESI'nın asagıda oldugunu osyluyor. Yani SONRASI'nın\n",
    "medyanı daha yuksek. Bu cıkarım ile \"egitimin etkisi vardır\" Demek istatistiki\n",
    "olarak dogru olmayabilir."
   ]
  },
  {
   "cell_type": "markdown",
   "id": "b8388ebd-7640-4acf-956f-cf2a1b2d3ae3",
   "metadata": {},
   "source": [
    "## NORMALLIK VARSAYIMI"
   ]
  },
  {
   "cell_type": "code",
   "execution_count": 92,
   "id": "12f74f18-14c9-437e-bed5-684a78fe845e",
   "metadata": {},
   "outputs": [],
   "source": [
    "from scipy.stats import shapiro"
   ]
  },
  {
   "cell_type": "code",
   "execution_count": 93,
   "id": "aefe5922-4928-48b8-aac2-608f18a95fce",
   "metadata": {},
   "outputs": [
    {
     "name": "stdout",
     "output_type": "stream",
     "text": [
      "T Hesap İstatistigi: 0.9543651342391968\n",
      "P-Value: 0.10722016543149948\n"
     ]
    }
   ],
   "source": [
    "#shapiro(AYRIK.ONCESI)\n",
    "print(\"T Hesap İstatistigi: \" + str(shapiro(AYRIK.ONCESI)[0]))\n",
    "print(\"P-Value: \" + str(shapiro(AYRIK.ONCESI)[1]))"
   ]
  },
  {
   "cell_type": "markdown",
   "id": "890e9cea-acc7-43c7-a4d0-a932510b7736",
   "metadata": {},
   "source": [
    "P-Value < 0.05 DEGIL bundan dolayı H0 REDDEDİLEMEZ. Yani örnek ve teorik dagilimda fark yoktur."
   ]
  },
  {
   "cell_type": "code",
   "execution_count": 94,
   "id": "3fd5e465-29f1-49d4-80ce-bb284f553971",
   "metadata": {},
   "outputs": [
    {
     "name": "stdout",
     "output_type": "stream",
     "text": [
      "T Hesap İstatistigi: 0.9780092239379883\n",
      "P-Value: 0.6159630417823792\n"
     ]
    }
   ],
   "source": [
    "#shapiro(AYRIK.SONRASI)\n",
    "print(\"T Hesap İstatistigi: \" + str(shapiro(AYRIK.SONRASI)[0]))\n",
    "print(\"P-Value: \" + str(shapiro(AYRIK.SONRASI)[1]))"
   ]
  },
  {
   "cell_type": "markdown",
   "id": "380b040a-15a7-4b31-ac28-5d15c580e169",
   "metadata": {},
   "source": [
    "P-Value < 0.05 DEGİL bundan dolayı H0 REDDEDİLEMEZ. Yani örnek ve teorik dagilimda fark yoktur."
   ]
  },
  {
   "cell_type": "markdown",
   "id": "ef8be1dd-970d-4b36-8264-cc742617946c",
   "metadata": {},
   "source": [
    " Bırıncı varsayımımız ıkı grup ıcınde saglanmaktadır."
   ]
  },
  {
   "cell_type": "markdown",
   "id": "fed38b24-75dd-45f9-bd19-6df48067d060",
   "metadata": {},
   "source": [
    "## VARYANS HOMOJENLIGI VARSAYIMI"
   ]
  },
  {
   "cell_type": "markdown",
   "id": "d6c7a3a1-72ae-4925-914d-124d95fb53a9",
   "metadata": {},
   "source": [
    "H0: Varyanslar homojendir -----\n",
    "H1: Varyanslar homojen degildir"
   ]
  },
  {
   "cell_type": "code",
   "execution_count": 95,
   "id": "05e5a1a1-de4a-426b-b538-a7fec15ddef2",
   "metadata": {},
   "outputs": [
    {
     "data": {
      "text/plain": [
       "LeveneResult(statistic=8.31303288672351, pvalue=0.0050844511807370246)"
      ]
     },
     "execution_count": 95,
     "metadata": {},
     "output_type": "execute_result"
    }
   ],
   "source": [
    "from scipy.stats import levene\n",
    "levene(AYRIK.ONCESI, AYRIK.SONRASI) #hıpotezı test ediyor. P-Value gore red veya degil"
   ]
  },
  {
   "cell_type": "markdown",
   "id": "a2f667d7-cebb-4f31-9075-4ed46767f964",
   "metadata": {},
   "source": [
    "P-Value < 0.05 bundan dolayı H0 REDDEDİLİR. Varyanslar homojen degildir."
   ]
  },
  {
   "cell_type": "markdown",
   "id": "3541ca7b-b551-4679-b5fe-0a90cc10f0b8",
   "metadata": {},
   "source": [
    "## Yapılacak şeyler şunlardır:\n",
    "1) Veri seti uzerinde bazi aykiri degerler varsa bunlarla ilgili duzenlemeler yapilip varsayimlar tekrar incelenebilir.\n",
    "2) Bir miktar gozardi edilebilen bir durumdur."
   ]
  },
  {
   "cell_type": "markdown",
   "id": "06b662b7-007e-4460-bd79-c81fdcd511f1",
   "metadata": {},
   "source": [
    "## BAGIMLI IKI ORNEKLEM TESTI UYGULAMASI"
   ]
  },
  {
   "cell_type": "code",
   "execution_count": 107,
   "id": "dccf7251-2ad8-49ab-960e-57bcb7aa1c82",
   "metadata": {},
   "outputs": [
    {
     "data": {
      "text/plain": [
       "Ttest_relResult(statistic=-9.281533480429937, pvalue=2.0235251764440722e-11)"
      ]
     },
     "execution_count": 107,
     "metadata": {},
     "output_type": "execute_result"
    }
   ],
   "source": [
    "stats.ttest_rel(AYRIK.ONCESI, AYRIK.SONRASI)"
   ]
  },
  {
   "cell_type": "code",
   "execution_count": 101,
   "id": "1da30ccf-e110-42c9-b506-8750a8214497",
   "metadata": {},
   "outputs": [
    {
     "name": "stdout",
     "output_type": "stream",
     "text": [
      "Test İstatistigi = -9.28153348, p-degeri = 0.00000000\n"
     ]
    }
   ],
   "source": [
    "test_istatistigi,pvalue = stats.ttest_rel(AYRIK[\"ONCESI\"],AYRIK[\"SONRASI\"])\n",
    "print(\"Test İstatistigi = %.8f, p-degeri = %.8f\" % (test_istatistigi,pvalue))"
   ]
  },
  {
   "cell_type": "markdown",
   "id": "6f69db36-ad4b-4910-89a9-80cf53ec4af4",
   "metadata": {},
   "source": [
    "P-Value < 0.05'dir. Farklilik olmadigini iddia edern H0 hipotezi reddedilir.\n",
    "İstatistiki olarak Anlamli farklilik vardir. Yani egitimin Yigin ortalamasina etkisi olmustur"
   ]
  },
  {
   "cell_type": "markdown",
   "id": "e25f1092-daaf-4076-9a83-102f819ec6cf",
   "metadata": {},
   "source": [
    "## Nonparametrik Bagımlı İki Orneklem Testi\n"
   ]
  },
  {
   "cell_type": "markdown",
   "id": "b63a1402-309a-4916-8ee0-b8a59bc00afb",
   "metadata": {},
   "source": [
    "Varsayalım ki varsayımlar bolumunde yer alan\n",
    "- Normallik Varsayımı\n",
    "- Varyans Homojenligi Varsayımı(zaten saglanmadı)\n",
    " saglanmadı:\n",
    " Wilcoxon() testi \"Nonparametrik bagımlı iki orneklem testi\"dir. "
   ]
  },
  {
   "cell_type": "code",
   "execution_count": 104,
   "id": "fbe966a4-440c-4a60-bdbc-281b314b31a0",
   "metadata": {},
   "outputs": [
    {
     "data": {
      "text/plain": [
       "WilcoxonResult(statistic=15.0, pvalue=2.491492033374464e-07)"
      ]
     },
     "execution_count": 104,
     "metadata": {},
     "output_type": "execute_result"
    }
   ],
   "source": [
    "stats.wilcoxon(AYRIK.ONCESI,AYRIK.SONRASI)"
   ]
  },
  {
   "cell_type": "code",
   "execution_count": 106,
   "id": "64b4cc80-2473-4be3-8ea9-58772d0494f6",
   "metadata": {},
   "outputs": [
    {
     "name": "stdout",
     "output_type": "stream",
     "text": [
      "Test İstatistigi = 15.00000000, p-degeri = 0.00000025\n"
     ]
    }
   ],
   "source": [
    "test_istatistigi,pvalue = stats.wilcoxon(AYRIK[\"ONCESI\"],AYRIK[\"SONRASI\"])\n",
    "print(\"Test İstatistigi = %.8f, p-degeri = %.8f\" % (test_istatistigi,pvalue))"
   ]
  },
  {
   "cell_type": "markdown",
   "id": "31ea81c4-a489-4cf1-b505-112769728256",
   "metadata": {},
   "source": [
    "P-Value <  0.05 oldugundan dolayi H0 REDDEDİLİR. Yani iki yigin arasinda istatistiki olarak anlamli bir farklilik gorunmektedir. Verilen egitim performansları etkilemistir.\n",
    "Ortalamalarda olan farklilk hangi grubun lehine oldugu \"boxplot\"da bellidir."
   ]
  },
  {
   "cell_type": "code",
   "execution_count": null,
   "id": "0bd5be92-f1a0-4fe6-a864-b760ca9e62bb",
   "metadata": {},
   "outputs": [],
   "source": []
  }
 ],
 "metadata": {
  "kernelspec": {
   "display_name": "Python 3 (ipykernel)",
   "language": "python",
   "name": "python3"
  },
  "language_info": {
   "codemirror_mode": {
    "name": "ipython",
    "version": 3
   },
   "file_extension": ".py",
   "mimetype": "text/x-python",
   "name": "python",
   "nbconvert_exporter": "python",
   "pygments_lexer": "ipython3",
   "version": "3.9.13"
  }
 },
 "nbformat": 4,
 "nbformat_minor": 5
}
