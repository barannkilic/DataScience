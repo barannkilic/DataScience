{
 "cells": [
  {
   "cell_type": "markdown",
   "id": "e4396c33-c0a4-486a-8dc7-bcc2574fa85a",
   "metadata": {},
   "source": [
    "## VERI TIPI I (verinin gelebilecegi tiplerden biri)"
   ]
  },
  {
   "cell_type": "code",
   "execution_count": 21,
   "id": "96ebf4a9-2b55-4ea8-93ef-aa9cbeb25622",
   "metadata": {},
   "outputs": [
    {
     "data": {
      "text/html": [
       "<div>\n",
       "<style scoped>\n",
       "    .dataframe tbody tr th:only-of-type {\n",
       "        vertical-align: middle;\n",
       "    }\n",
       "\n",
       "    .dataframe tbody tr th {\n",
       "        vertical-align: top;\n",
       "    }\n",
       "\n",
       "    .dataframe thead th {\n",
       "        text-align: right;\n",
       "    }\n",
       "</style>\n",
       "<table border=\"1\" class=\"dataframe\">\n",
       "  <thead>\n",
       "    <tr style=\"text-align: right;\">\n",
       "      <th></th>\n",
       "      <th>A</th>\n",
       "      <th>B</th>\n",
       "    </tr>\n",
       "  </thead>\n",
       "  <tbody>\n",
       "    <tr>\n",
       "      <th>0</th>\n",
       "      <td>30</td>\n",
       "      <td>37</td>\n",
       "    </tr>\n",
       "    <tr>\n",
       "      <th>1</th>\n",
       "      <td>27</td>\n",
       "      <td>39</td>\n",
       "    </tr>\n",
       "    <tr>\n",
       "      <th>2</th>\n",
       "      <td>21</td>\n",
       "      <td>31</td>\n",
       "    </tr>\n",
       "    <tr>\n",
       "      <th>3</th>\n",
       "      <td>27</td>\n",
       "      <td>31</td>\n",
       "    </tr>\n",
       "    <tr>\n",
       "      <th>4</th>\n",
       "      <td>29</td>\n",
       "      <td>34</td>\n",
       "    </tr>\n",
       "  </tbody>\n",
       "</table>\n",
       "</div>"
      ],
      "text/plain": [
       "    A   B\n",
       "0  30  37\n",
       "1  27  39\n",
       "2  21  31\n",
       "3  27  31\n",
       "4  29  34"
      ]
     },
     "execution_count": 21,
     "metadata": {},
     "output_type": "execute_result"
    }
   ],
   "source": [
    "import pandas as pd\n",
    "A = pd.DataFrame([30,27,21,27,29,30,20,20,27,32,35,22,24,23,25,27,23,27,23,\n",
    "                 25,21,18,24,26,33,26,27,28,19,25])\n",
    "\n",
    "B = pd.DataFrame([37,39,31,31,34,38,30,36,29,28,38,28,37,37,30,32,31,31,27,\n",
    "                 32,33,33,33,31,32,33,26,32,33,29])\n",
    "A_B = pd.concat([A,B], axis = 1)\n",
    "A_B.columns = [\"A\",\"B\"]\n",
    "#A_B.head(len(A_B))___HEAD İCİ Grafigin uzunlugu oluyor\n",
    "A_B.head()"
   ]
  },
  {
   "cell_type": "markdown",
   "id": "cfe8323b-e02f-4d72-8ee4-f29abea796f2",
   "metadata": {},
   "source": [
    "## VERI TIPI II (Amelasyon_En zor olusturma yontemi)"
   ]
  },
  {
   "cell_type": "code",
   "execution_count": 38,
   "id": "65e77e35-fef0-4f70-874d-2d1419ab94d1",
   "metadata": {},
   "outputs": [
    {
     "name": "stdout",
     "output_type": "stream",
     "text": [
      "   gelir GRUP\n",
      "0     30    A\n",
      "1     27    A\n",
      "2     21    A\n",
      "3     27    A\n",
      "4     29    A\n",
      "    gelir GRUP\n",
      "25     33    B\n",
      "26     26    B\n",
      "27     32    B\n",
      "28     33    B\n",
      "29     29    B\n"
     ]
    }
   ],
   "source": [
    "import pandas as pd\n",
    "A = pd.DataFrame([30,27,21,27,29,30,20,20,27,32,35,22,24,23,25,27,23,27,23,\n",
    "                 25,21,18,24,26,33,26,27,28,19,25])\n",
    "\n",
    "B = pd.DataFrame([37,39,31,31,34,38,30,36,29,28,38,28,37,37,30,32,31,31,27,\n",
    "                 32,33,33,33,31,32,33,26,32,33,29])\n",
    "import numpy as np\n",
    "# A ve A'nın Grubu\n",
    "GRUP_A = np.arange(len(A))\n",
    "GRUP_A = pd.DataFrame(GRUP_A)\n",
    "GRUP_A[:] = \"A\"\n",
    "A = pd.concat([A, GRUP_A], axis = 1)\n",
    "\n",
    "# B ve B'nın Grubu\n",
    "GRUP_B = np.arange(len(B))\n",
    "GRUP_B = pd.DataFrame(GRUP_B)\n",
    "GRUP_B[:] = \"B\"\n",
    "B = pd.concat([B, GRUP_B], axis = 1) \n",
    "\n",
    "#Tum veri\n",
    "AB = pd.concat([A,B])\n",
    "AB.columns = [\"gelir\",\"GRUP\"]\n",
    "print(AB.head())\n",
    "print(AB.tail())"
   ]
  },
  {
   "cell_type": "code",
   "execution_count": 111,
   "id": "7b6f0fe4-c15f-4a6f-be69-bdcdc6270fbb",
   "metadata": {},
   "outputs": [
    {
     "data": {
      "image/png": "[encoded data removed]",
      "text/plain": [
       "<Figure size 640x480 with 1 Axes>"
      ]
     },
     "metadata": {},
     "output_type": "display_data"
    }
   ],
   "source": [
    "import seaborn as sns\n",
    "sns.boxplot(x = \"GRUP\", y = \"gelir\", data = AB);"
   ]
  },
  {
   "cell_type": "code",
   "execution_count": 47,
   "id": "7fe1561e-e2be-4560-bc45-17c3c112ea02",
   "metadata": {},
   "outputs": [],
   "source": [
    "## Bağımsız İki Örneklem T Testi \"VARSAYIM KONTROLU\""
   ]
  },
  {
   "cell_type": "code",
   "execution_count": 45,
   "id": "569dddfa-e351-4cd9-ac50-4ac84e5762df",
   "metadata": {},
   "outputs": [
    {
     "data": {
      "text/html": [
       "<div>\n",
       "<style scoped>\n",
       "    .dataframe tbody tr th:only-of-type {\n",
       "        vertical-align: middle;\n",
       "    }\n",
       "\n",
       "    .dataframe tbody tr th {\n",
       "        vertical-align: top;\n",
       "    }\n",
       "\n",
       "    .dataframe thead th {\n",
       "        text-align: right;\n",
       "    }\n",
       "</style>\n",
       "<table border=\"1\" class=\"dataframe\">\n",
       "  <thead>\n",
       "    <tr style=\"text-align: right;\">\n",
       "      <th></th>\n",
       "      <th>A</th>\n",
       "      <th>B</th>\n",
       "    </tr>\n",
       "  </thead>\n",
       "  <tbody>\n",
       "    <tr>\n",
       "      <th>0</th>\n",
       "      <td>30</td>\n",
       "      <td>37</td>\n",
       "    </tr>\n",
       "    <tr>\n",
       "      <th>1</th>\n",
       "      <td>27</td>\n",
       "      <td>39</td>\n",
       "    </tr>\n",
       "    <tr>\n",
       "      <th>2</th>\n",
       "      <td>21</td>\n",
       "      <td>31</td>\n",
       "    </tr>\n",
       "    <tr>\n",
       "      <th>3</th>\n",
       "      <td>27</td>\n",
       "      <td>31</td>\n",
       "    </tr>\n",
       "    <tr>\n",
       "      <th>4</th>\n",
       "      <td>29</td>\n",
       "      <td>34</td>\n",
       "    </tr>\n",
       "  </tbody>\n",
       "</table>\n",
       "</div>"
      ],
      "text/plain": [
       "    A   B\n",
       "0  30  37\n",
       "1  27  39\n",
       "2  21  31\n",
       "3  27  31\n",
       "4  29  34"
      ]
     },
     "execution_count": 45,
     "metadata": {},
     "output_type": "execute_result"
    }
   ],
   "source": [
    "A_B.head()"
   ]
  },
  {
   "cell_type": "code",
   "execution_count": 46,
   "id": "05d5909c-bae4-4b1c-a943-655d16875519",
   "metadata": {},
   "outputs": [
    {
     "data": {
      "text/html": [
       "<div>\n",
       "<style scoped>\n",
       "    .dataframe tbody tr th:only-of-type {\n",
       "        vertical-align: middle;\n",
       "    }\n",
       "\n",
       "    .dataframe tbody tr th {\n",
       "        vertical-align: top;\n",
       "    }\n",
       "\n",
       "    .dataframe thead th {\n",
       "        text-align: right;\n",
       "    }\n",
       "</style>\n",
       "<table border=\"1\" class=\"dataframe\">\n",
       "  <thead>\n",
       "    <tr style=\"text-align: right;\">\n",
       "      <th></th>\n",
       "      <th>gelir</th>\n",
       "      <th>GRUP</th>\n",
       "    </tr>\n",
       "  </thead>\n",
       "  <tbody>\n",
       "    <tr>\n",
       "      <th>0</th>\n",
       "      <td>30</td>\n",
       "      <td>A</td>\n",
       "    </tr>\n",
       "    <tr>\n",
       "      <th>1</th>\n",
       "      <td>27</td>\n",
       "      <td>A</td>\n",
       "    </tr>\n",
       "    <tr>\n",
       "      <th>2</th>\n",
       "      <td>21</td>\n",
       "      <td>A</td>\n",
       "    </tr>\n",
       "    <tr>\n",
       "      <th>3</th>\n",
       "      <td>27</td>\n",
       "      <td>A</td>\n",
       "    </tr>\n",
       "    <tr>\n",
       "      <th>4</th>\n",
       "      <td>29</td>\n",
       "      <td>A</td>\n",
       "    </tr>\n",
       "  </tbody>\n",
       "</table>\n",
       "</div>"
      ],
      "text/plain": [
       "   gelir GRUP\n",
       "0     30    A\n",
       "1     27    A\n",
       "2     21    A\n",
       "3     27    A\n",
       "4     29    A"
      ]
     },
     "execution_count": 46,
     "metadata": {},
     "output_type": "execute_result"
    }
   ],
   "source": [
    "AB.head()"
   ]
  },
  {
   "cell_type": "markdown",
   "id": "5d1dfb46-32fe-4633-befb-320d2e530d04",
   "metadata": {},
   "source": [
    "## NORMALLIK VARSAYIMI "
   ]
  },
  {
   "cell_type": "code",
   "execution_count": 49,
   "id": "467c37ed-0ac7-496d-8b6d-61688cf9df16",
   "metadata": {},
   "outputs": [],
   "source": [
    "from scipy.stats import shapiro"
   ]
  },
  {
   "cell_type": "code",
   "execution_count": 59,
   "id": "b7ff98c0-37b1-41e4-9e8c-1cf3aaba161a",
   "metadata": {},
   "outputs": [
    {
     "name": "stdout",
     "output_type": "stream",
     "text": [
      "T Hesap İstatistigi: 0.9789243936538696\n",
      "Hesaplanan P-Value: 0.7962851524353027\n"
     ]
    }
   ],
   "source": [
    "# Burada \"A\" degiskeni cekilip normallik varsayimi uygulandi\n",
    "print(\"T Hesap İstatistigi: \" + str(shapiro(A_B.A)[0]))\n",
    "print(\"Hesaplanan P-Value: \" + str(shapiro(A_B.A)[1]))\n",
    "##Bizden fonksiyonun kendisi isteniyor. Ikinci veri yapisi kullanilamaz."
   ]
  },
  {
   "cell_type": "markdown",
   "id": "81d5a3c2-25e1-4a5b-b4c2-651172c6a6c2",
   "metadata": {},
   "source": [
    " 1.GRUP(DEGISKEN__A) VARSAYIMI YORUMU\n",
    " \"P-Value < 0.05 DEGİL\" // H0:Reddeilemez Ornek ve teoreik dagilim da fark \n",
    " yoktur."
   ]
  },
  {
   "cell_type": "code",
   "execution_count": 72,
   "id": "0d7ec2da-1525-4bb1-965f-a40b9efa4adb",
   "metadata": {},
   "outputs": [
    {
     "name": "stdout",
     "output_type": "stream",
     "text": [
      "T Hesap İstatistigi: 0.9561262130737305\n",
      "Hesaplanan P-Value: 0.24584470689296722\n"
     ]
    }
   ],
   "source": [
    "#Burada \"B\" degiskeni cekilip normallik varsayimi uygulandi\n",
    "print(\"T Hesap İstatistigi: \" + str(shapiro(A_B.B)[0]))\n",
    "print(\"Hesaplanan P-Value: \" + str(shapiro(A_B.B)[1]))\n",
    "##Bizden fonksiyonun kendisi isteniyor. Ikinci veri yapisi kullanilamaz."
   ]
  },
  {
   "cell_type": "markdown",
   "id": "1a8ff167-dd9c-47ff-a2d5-0e51a2e3e925",
   "metadata": {},
   "source": [
    "2.GRUP(DEGISKEN__B) VARSAYIMI YORUMU\n",
    "\"P-Value < 0.05 DEGİL\" // H0:Reddedilemez Ornek ve teoreik dagilim da fark \n",
    "yoktur \n"
   ]
  },
  {
   "cell_type": "markdown",
   "id": "86d6e114-8f03-4c79-ab07-643e9cd0e249",
   "metadata": {},
   "source": [
    "## VARYANS HOMOJENLIGI VARSAYIMI "
   ]
  },
  {
   "cell_type": "code",
   "execution_count": 65,
   "id": "c04c029d-7205-4d8e-aed9-9ceadd65dd7c",
   "metadata": {},
   "outputs": [],
   "source": [
    "# H0: Varyanslar homojendir\n",
    "# H1: Varyanslar homojen degildir"
   ]
  },
  {
   "cell_type": "code",
   "execution_count": 70,
   "id": "80c581f5-532e-4b4b-ba73-e5d887e7d152",
   "metadata": {},
   "outputs": [
    {
     "data": {
      "text/plain": [
       "LeveneResult(statistic=1.1101802757158004, pvalue=0.2964124900636569)"
      ]
     },
     "execution_count": 70,
     "metadata": {},
     "output_type": "execute_result"
    }
   ],
   "source": [
    "from scipy.stats import levene\n",
    "levene(A_B.A, A_B.B) #hıpotezı test ediyor. P-Value gore red veya degil"
   ]
  },
  {
   "cell_type": "markdown",
   "id": "1f830ae9-5278-4d85-9cf7-dcb618f7ca97",
   "metadata": {},
   "source": [
    "P-Value < 0.05 DEGİL. H0:Reddedilemez. Varyanslar Homojendir"
   ]
  },
  {
   "cell_type": "markdown",
   "id": "ae9aaefd-ea73-42f7-a4da-f1d1f8d96a44",
   "metadata": {},
   "source": [
    "## Bağımsız İki Örneklem T Testi Uygulaması"
   ]
  },
  {
   "cell_type": "code",
   "execution_count": 112,
   "id": "b189e60f-7376-4169-b4ed-e5acbd804d56",
   "metadata": {},
   "outputs": [
    {
     "data": {
      "text/plain": [
       "Ttest_indResult(statistic=-7.028690967745927, pvalue=2.6233215605475075e-09)"
      ]
     },
     "execution_count": 112,
     "metadata": {},
     "output_type": "execute_result"
    }
   ],
   "source": [
    "stats.ttest_ind(A_B[\"A\"],A_B[\"B\"],equal_var = True)#varyans homojenligi saglandi"
   ]
  },
  {
   "cell_type": "code",
   "execution_count": 113,
   "id": "45196c94-5e06-433d-ad8d-331bb14a2696",
   "metadata": {
    "tags": []
   },
   "outputs": [
    {
     "name": "stdout",
     "output_type": "stream",
     "text": [
      "Test Istatistigi = -7.0287, P-Value = 0.0000\n"
     ]
    }
   ],
   "source": [
    "test_istatistigi, pvalue = stats.ttest_ind(A_B[\"A\"],A_B[\"B\"],equal_var = True)\n",
    "print(\"Test Istatistigi = %.4f, P-Value = %.4f\" % (test_istatistigi, pvalue))"
   ]
  },
  {
   "cell_type": "markdown",
   "id": "be7dc773-ec07-4b12-a5bf-b476396b237e",
   "metadata": {
    "tags": []
   },
   "source": [
    "P-Value < 0.05'dir. Farklilik vardir. Farklilik olmadigini iddia edern H0 hipotezi reddedilir. Yigin ortalamalari esşittir diyen H0 reddilir.\n",
    "Boxplot'dan gorulecegi uzere B(YeniGrup)nin ortalamasi daha yuksektir."
   ]
  },
  {
   "cell_type": "markdown",
   "id": "d478d35f-3d2f-4863-940d-3071f64e92d2",
   "metadata": {},
   "source": [
    "## Nonparametrik Bagımsız İki Orneklem Testi\n",
    "Varsayimlarin saglanmadigi dusunuluyor"
   ]
  },
  {
   "cell_type": "code",
   "execution_count": 109,
   "id": "369b1f96-7a20-49e0-ba40-ba9393e4465c",
   "metadata": {},
   "outputs": [
    {
     "data": {
      "text/plain": [
       "MannwhitneyuResult(statistic=89.5, pvalue=9.557950378612535e-08)"
      ]
     },
     "execution_count": 109,
     "metadata": {},
     "output_type": "execute_result"
    }
   ],
   "source": [
    "stats.mannwhitneyu(A_B[\"A\"],A_B[\"B\"])"
   ]
  },
  {
   "cell_type": "code",
   "execution_count": 110,
   "id": "09b8887f-4ce8-44e5-9325-0395b2cdda6a",
   "metadata": {},
   "outputs": [
    {
     "name": "stdout",
     "output_type": "stream",
     "text": [
      "Test Istatistigi = 89.5000, P-Value = 0.0000\n"
     ]
    }
   ],
   "source": [
    "test_istatistigi, pvalue = stats.mannwhitneyu(A_B[\"A\"],A_B[\"B\"])\n",
    "print(\"Test Istatistigi = %.4f, P-Value = %.4f\" % (test_istatistigi, pvalue))"
   ]
  },
  {
   "cell_type": "markdown",
   "id": "c8b6f8e2-8f49-45f7-956d-9bde670dc729",
   "metadata": {},
   "source": [
    "NonParametrik testte de anlamlii fark vardir yani H0 reddildi.\n",
    "P-Value < 0.05 H0: Reddedildi"
   ]
  }
 ],
 "metadata": {
  "kernelspec": {
   "display_name": "Python 3 (ipykernel)",
   "language": "python",
   "name": "python3"
  },
  "language_info": {
   "codemirror_mode": {
    "name": "ipython",
    "version": 3
   },
   "file_extension": ".py",
   "mimetype": "text/x-python",
   "name": "python",
   "nbconvert_exporter": "python",
   "pygments_lexer": "ipython3",
   "version": "3.9.13"
  }
 },
 "nbformat": 4,
 "nbformat_minor": 5
}
