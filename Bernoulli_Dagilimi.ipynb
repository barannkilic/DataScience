{
 "cells": [
  {
   "cell_type": "code",
   "execution_count": 1,
   "id": "e5fdec42-82a0-4c31-bff9-1b44c363e190",
   "metadata": {},
   "outputs": [],
   "source": [
    "from scipy.stats import bernoulli"
   ]
  },
  {
   "cell_type": "code",
   "execution_count": 5,
   "id": "2388050c-f67e-48dd-80cb-fa4fc87b3cf0",
   "metadata": {},
   "outputs": [],
   "source": [
    "p = 0.6 #tura gelmesi"
   ]
  },
  {
   "cell_type": "code",
   "execution_count": 8,
   "id": "15bbff57-0477-4357-9c75-cc7b65ce3e01",
   "metadata": {},
   "outputs": [
    {
     "data": {
      "text/plain": [
       "0.6"
      ]
     },
     "execution_count": 8,
     "metadata": {},
     "output_type": "execute_result"
    }
   ],
   "source": [
    "rv = bernoulli(p) #rv_isimlendirme\n",
    "rv.pmf(k = 1) #pmf__olasilik kitle fonksiyonu_probability mass function"
   ]
  },
  {
   "cell_type": "code",
   "execution_count": 9,
   "id": "5e0386f6-4f8b-4140-8233-6676357a1493",
   "metadata": {},
   "outputs": [
    {
     "data": {
      "text/plain": [
       "0.4"
      ]
     },
     "execution_count": 9,
     "metadata": {},
     "output_type": "execute_result"
    }
   ],
   "source": [
    "rv.pmf(k = 0)"
   ]
  },
  {
   "cell_type": "code",
   "execution_count": null,
   "id": "a690fb34-af5d-4513-904c-b26ba212e182",
   "metadata": {},
   "outputs": [],
   "source": []
  },
  {
   "cell_type": "code",
   "execution_count": null,
   "id": "89019b7c-42ec-468d-b5e8-1507805c7105",
   "metadata": {},
   "outputs": [],
   "source": []
  },
  {
   "cell_type": "code",
   "execution_count": null,
   "id": "6c55fa65-4df9-4127-b8ec-158a65a50662",
   "metadata": {},
   "outputs": [],
   "source": []
  },
  {
   "cell_type": "code",
   "execution_count": null,
   "id": "23cbef9b-f8e2-4a12-9092-e4a175e9f117",
   "metadata": {},
   "outputs": [],
   "source": []
  }
 ],
 "metadata": {
  "kernelspec": {
   "display_name": "Python 3 (ipykernel)",
   "language": "python",
   "name": "python3"
  },
  "language_info": {
   "codemirror_mode": {
    "name": "ipython",
    "version": 3
   },
   "file_extension": ".py",
   "mimetype": "text/x-python",
   "name": "python",
   "nbconvert_exporter": "python",
   "pygments_lexer": "ipython3",
   "version": "3.9.13"
  }
 },
 "nbformat": 4,
 "nbformat_minor": 5
}
