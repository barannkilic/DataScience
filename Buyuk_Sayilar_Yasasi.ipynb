{
 "cells": [
  {
   "cell_type": "code",
   "execution_count": 2,
   "id": "881bda41-489a-4db5-943d-61da86b4ba7e",
   "metadata": {},
   "outputs": [
    {
     "name": "stdout",
     "output_type": "stream",
     "text": [
      "Atış sayısı: 2 --- Yazı Olasılığı: 50.00\n",
      "Atış sayısı: 4 --- Yazı Olasılığı: 0.00\n",
      "Atış sayısı: 8 --- Yazı Olasılığı: 62.50\n",
      "Atış sayısı: 16 --- Yazı Olasılığı: 43.75\n",
      "Atış sayısı: 32 --- Yazı Olasılığı: 46.88\n",
      "Atış sayısı: 64 --- Yazı Olasılığı: 56.25\n",
      "Atış sayısı: 128 --- Yazı Olasılığı: 50.78\n",
      "Atış sayısı: 256 --- Yazı Olasılığı: 52.73\n",
      "Atış sayısı: 512 --- Yazı Olasılığı: 52.93\n",
      "Atış sayısı: 1024 --- Yazı Olasılığı: 50.20\n",
      "Atış sayısı: 2048 --- Yazı Olasılığı: 48.58\n",
      "Atış sayısı: 4096 --- Yazı Olasılığı: 49.49\n",
      "Atış sayısı: 8192 --- Yazı Olasılığı: 49.58\n",
      "Atış sayısı: 16384 --- Yazı Olasılığı: 49.96\n",
      "Atış sayısı: 32768 --- Yazı Olasılığı: 50.00\n",
      "Atış sayısı: 65536 --- Yazı Olasılığı: 49.68\n",
      "Atış sayısı: 131072 --- Yazı Olasılığı: 49.97\n",
      "Atış sayısı: 262144 --- Yazı Olasılığı: 50.13\n",
      "Atış sayısı: 524288 --- Yazı Olasılığı: 50.01\n",
      "Atış sayısı: 1048576 --- Yazı Olasılığı: 50.09\n"
     ]
    }
   ],
   "source": [
    "import numpy as np\n",
    "rng = np.random.RandomState(123) #numpydan cekiliyor.İslemleri sabit tutar\n",
    "for i in np.arange(1,21): #1 den 20 ye kadar git.\n",
    "    deney_sayisi = 2**i #2 uzeri i\n",
    "    yazi_turalar = rng.randint(0,2, size = deney_sayisi) #0,2 arasında yani 0-1 sayiilarini oluştur deney_sayi'si kadar\n",
    "    yazi_olasiliklari = np.mean(yazi_turalar) #0,1 lerin ortalamasini aliyor. Yazi olasiliklarini veriyor.\n",
    "    print(\"Atış sayısı:\",deney_sayisi,\"---\",'Yazı Olasılığı: %.2f' % (yazi_olasiliklari * 100))"
   ]
  },
  {
   "cell_type": "code",
   "execution_count": null,
   "id": "283ed048-87d0-40cf-a7f1-5f612cff1b5d",
   "metadata": {},
   "outputs": [],
   "source": []
  }
 ],
 "metadata": {
  "kernelspec": {
   "display_name": "Python 3 (ipykernel)",
   "language": "python",
   "name": "python3"
  },
  "language_info": {
   "codemirror_mode": {
    "name": "ipython",
    "version": 3
   },
   "file_extension": ".py",
   "mimetype": "text/x-python",
   "name": "python",
   "nbconvert_exporter": "python",
   "pygments_lexer": "ipython3",
   "version": "3.9.13"
  }
 },
 "nbformat": 4,
 "nbformat_minor": 5
}
