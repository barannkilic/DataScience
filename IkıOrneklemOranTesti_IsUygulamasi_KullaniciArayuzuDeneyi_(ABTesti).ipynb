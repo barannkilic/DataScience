{
 "cells": [
  {
   "cell_type": "markdown",
   "id": "50d5c774-ce96-4c84-a1b2-99e7090b2c3d",
   "metadata": {},
   "source": [
    "## IKI ORNEKLEM ORAN TESTI"
   ]
  },
  {
   "cell_type": "markdown",
   "id": "511444bf-969a-43a1-b0b9-accee497c585",
   "metadata": {},
   "source": [
    "Ikı farklı tasarım mevcut. Hangisinin tercih edilecegine yonelik bir test uygulanacaktir\n",
    "H0: P1 = P2 -----\n",
    " H1: P1 != P2"
   ]
  },
  {
   "cell_type": "code",
   "execution_count": 1,
   "id": "f89bd777-ee96-4930-9078-97919efe3a17",
   "metadata": {},
   "outputs": [],
   "source": [
    "from statsmodels.stats.proportion import proportions_ztest"
   ]
  },
  {
   "cell_type": "code",
   "execution_count": 3,
   "id": "1e5f70a8-0936-4378-bd7e-7ee0ce001003",
   "metadata": {},
   "outputs": [],
   "source": [
    "import numpy as np\n",
    "basari_sayilari = np.array([300,250])\n",
    "gozlem_sayilari = np.array([1000,1100])"
   ]
  },
  {
   "cell_type": "code",
   "execution_count": 4,
   "id": "e744d024-95c8-4c95-9510-31b6f6fef0b8",
   "metadata": {},
   "outputs": [
    {
     "data": {
      "text/plain": [
       "(3.7857863233209255, 0.0001532232957772221)"
      ]
     },
     "execution_count": 4,
     "metadata": {},
     "output_type": "execute_result"
    }
   ],
   "source": [
    "proportions_ztest(count = basari_sayilari, nobs = gozlem_sayilari)"
   ]
  },
  {
   "cell_type": "markdown",
   "id": "5790a5fc-5d18-4c43-b894-55056fee3ee8",
   "metadata": {},
   "source": [
    "P-Value < 0.05 oldugundan dolayı H0 REDDEDİLİR. İstatistiki olarak anlamli farklilk vardir. Bu durum yeşil butonun lehine olarak sonuclanacaktir."
   ]
  },
  {
   "cell_type": "code",
   "execution_count": null,
   "id": "610e7d58-7810-4381-9fb6-daa97b637092",
   "metadata": {},
   "outputs": [],
   "source": []
  }
 ],
 "metadata": {
  "kernelspec": {
   "display_name": "Python 3 (ipykernel)",
   "language": "python",
   "name": "python3"
  },
  "language_info": {
   "codemirror_mode": {
    "name": "ipython",
    "version": 3
   },
   "file_extension": ".py",
   "mimetype": "text/x-python",
   "name": "python",
   "nbconvert_exporter": "python",
   "pygments_lexer": "ipython3",
   "version": "3.9.13"
  }
 },
 "nbformat": 4,
 "nbformat_minor": 5
}
