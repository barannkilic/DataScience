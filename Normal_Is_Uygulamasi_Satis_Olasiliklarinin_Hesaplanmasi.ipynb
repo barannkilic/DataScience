{
 "cells": [
  {
   "cell_type": "code",
   "execution_count": 1,
   "id": "cc4f986e-f7e5-4c66-b030-eb0be68ac453",
   "metadata": {},
   "outputs": [],
   "source": [
    "from scipy.stats import norm"
   ]
  },
  {
   "cell_type": "code",
   "execution_count": 12,
   "id": "c35185d4-ec61-4aae-ab98-658eb846a538",
   "metadata": {},
   "outputs": [
    {
     "data": {
      "text/plain": [
       "0.02275013194817921"
      ]
     },
     "execution_count": 12,
     "metadata": {},
     "output_type": "execute_result"
    }
   ],
   "source": [
    "#90'dan fazla olmasi__egri yapisi altında kalan alan 1'dir. Belirli integral kismi lazim 90 da yukarisinda cikariyoruz\n",
    "1-norm.cdf(90,80,5)#90=istenen__80=ort.__5=sapma#cdf_kumulatif(birikimli)yoğunluk fonksiyonu"
   ]
  },
  {
   "cell_type": "code",
   "execution_count": 9,
   "id": "3d5e5ac6-feb1-4aa3-90b5-77b8567247df",
   "metadata": {},
   "outputs": [
    {
     "data": {
      "text/plain": [
       "0.9772498680518208"
      ]
     },
     "execution_count": 9,
     "metadata": {},
     "output_type": "execute_result"
    }
   ],
   "source": [
    "#70'den fazla olmasi\n",
    "1-norm.cdf(70,80,5)"
   ]
  },
  {
   "cell_type": "code",
   "execution_count": 15,
   "id": "b0210281-49a7-4195-91f6-27c6fdd8ec40",
   "metadata": {},
   "outputs": [
    {
     "data": {
      "text/plain": [
       "0.08075665923377107"
      ]
     },
     "execution_count": 15,
     "metadata": {},
     "output_type": "execute_result"
    }
   ],
   "source": [
    "#73'den az olmasi\n",
    "norm.cdf(73,80,5) ##ort alti oldugundan 1'den cıkarmadık"
   ]
  },
  {
   "cell_type": "code",
   "execution_count": 11,
   "id": "8c1134bf-ac39-4794-a9f8-0d8675800c10",
   "metadata": {},
   "outputs": [
    {
     "data": {
      "text/plain": [
       "0.13590512198327787"
      ]
     },
     "execution_count": 11,
     "metadata": {},
     "output_type": "execute_result"
    }
   ],
   "source": [
    "#85 ile 90 arasinda olmasi\n",
    "norm.cdf(90,80,5) - norm.cdf(85,80,5)"
   ]
  },
  {
   "cell_type": "code",
   "execution_count": null,
   "id": "10df2493-ef28-4473-8df4-7a41a8122e11",
   "metadata": {},
   "outputs": [],
   "source": []
  }
 ],
 "metadata": {
  "kernelspec": {
   "display_name": "Python 3 (ipykernel)",
   "language": "python",
   "name": "python3"
  },
  "language_info": {
   "codemirror_mode": {
    "name": "ipython",
    "version": 3
   },
   "file_extension": ".py",
   "mimetype": "text/x-python",
   "name": "python",
   "nbconvert_exporter": "python",
   "pygments_lexer": "ipython3",
   "version": "3.9.13"
  }
 },
 "nbformat": 4,
 "nbformat_minor": 5
}
