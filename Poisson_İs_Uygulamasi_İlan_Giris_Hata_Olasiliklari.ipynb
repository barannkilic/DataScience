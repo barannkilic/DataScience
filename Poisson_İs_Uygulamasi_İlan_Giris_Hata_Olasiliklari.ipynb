{
 "cells": [
  {
   "cell_type": "code",
   "execution_count": 1,
   "id": "676c35c5-e1ef-401f-8425-fee4e8867620",
   "metadata": {},
   "outputs": [],
   "source": [
    "from scipy.stats import poisson"
   ]
  },
  {
   "cell_type": "code",
   "execution_count": 2,
   "id": "e5a939df-1a66-4152-8183-52805139dc8a",
   "metadata": {},
   "outputs": [],
   "source": [
    "lambda_ = 0.1"
   ]
  },
  {
   "cell_type": "code",
   "execution_count": 3,
   "id": "cbec601f-481c-4a4b-81ff-8214740643e5",
   "metadata": {},
   "outputs": [],
   "source": [
    "rv = poisson(mu = lambda_)"
   ]
  },
  {
   "cell_type": "code",
   "execution_count": 4,
   "id": "dbc4aad4-b370-441c-9839-b61c5785aad2",
   "metadata": {},
   "outputs": [
    {
     "data": {
      "text/plain": [
       "0.9048374180359595"
      ]
     },
     "execution_count": 4,
     "metadata": {},
     "output_type": "execute_result"
    }
   ],
   "source": [
    "rv.pmf(k = 0) #k_basari sayisi"
   ]
  },
  {
   "cell_type": "code",
   "execution_count": 5,
   "id": "8c751f8a-c290-4d54-908b-f5ebd8da7921",
   "metadata": {},
   "outputs": [
    {
     "data": {
      "text/plain": [
       "0.00015080623633932676"
      ]
     },
     "execution_count": 5,
     "metadata": {},
     "output_type": "execute_result"
    }
   ],
   "source": [
    "rv.pmf(k = 3) "
   ]
  },
  {
   "cell_type": "code",
   "execution_count": 6,
   "id": "2562f826-585a-4742-a6e6-76fef2e46aed",
   "metadata": {},
   "outputs": [
    {
     "data": {
      "text/plain": [
       "7.54031181696634e-08"
      ]
     },
     "execution_count": 6,
     "metadata": {},
     "output_type": "execute_result"
    }
   ],
   "source": [
    "rv.pmf(k = 5) "
   ]
  },
  {
   "cell_type": "code",
   "execution_count": null,
   "id": "2c6b301a-59de-45d4-ac90-e9ee75017dc3",
   "metadata": {},
   "outputs": [],
   "source": []
  }
 ],
 "metadata": {
  "kernelspec": {
   "display_name": "Python 3 (ipykernel)",
   "language": "python",
   "name": "python3"
  },
  "language_info": {
   "codemirror_mode": {
    "name": "ipython",
    "version": 3
   },
   "file_extension": ".py",
   "mimetype": "text/x-python",
   "name": "python",
   "nbconvert_exporter": "python",
   "pygments_lexer": "ipython3",
   "version": "3.9.13"
  }
 },
 "nbformat": 4,
 "nbformat_minor": 5
}
