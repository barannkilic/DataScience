{
 "cells": [
  {
   "cell_type": "markdown",
   "id": "15f33612-0018-43ad-ad66-5cde8676669f",
   "metadata": {},
   "source": [
    "##  TEK ORNEKLEM ORAN TESTI \n",
    "  H0: P=0.125\n",
    " H1: P!=0.125"
   ]
  },
  {
   "cell_type": "code",
   "execution_count": 5,
   "id": "c12b9fce-4c6d-43f5-aad5-c6c101613f40",
   "metadata": {},
   "outputs": [],
   "source": [
    "from statsmodels.stats.proportion import proportions_ztest"
   ]
  },
  {
   "cell_type": "code",
   "execution_count": 7,
   "id": "89f40515-2374-4d83-9584-f3bb46dc9e19",
   "metadata": {},
   "outputs": [],
   "source": [
    "count = 40 #basari sayisi\n",
    "nobs = 500 #gozlem sayisi\n",
    "value = 0.125 #test edilmek istenen deger"
   ]
  },
  {
   "cell_type": "code",
   "execution_count": 8,
   "id": "973d867a-d321-497a-abc6-af719b132a6e",
   "metadata": {},
   "outputs": [
    {
     "data": {
      "text/plain": [
       "(-3.7090151628513017, 0.0002080669689845979)"
      ]
     },
     "execution_count": 8,
     "metadata": {},
     "output_type": "execute_result"
    }
   ],
   "source": [
    "proportions_ztest(count, nobs, value)"
   ]
  },
  {
   "cell_type": "code",
   "execution_count": null,
   "id": "4f5bd990-adda-482c-b2fa-65685617da1a",
   "metadata": {},
   "outputs": [],
   "source": [
    "## p-value < 0.05 oldugu icin H0 reddediliyor. Yani urun satin alimina\n",
    "#iliskin donusum oraninin 0.125 oldugu reddediliyor. Urun satin alimina yonelik\n",
    "#olarak test ettigimiz 0.125 degerinin boyle olmadigi bu degerin yanlis oldugu\n",
    "#bilgisine erismis oluyoruz ve bunu ISTATISTIKSEL OLARAK %95 GUVEN ILE SOYLEME\n",
    "#IMKANI YAKALAMIS OLUYORUZ. (%95 GUVEN = %5 YANILMA)"
   ]
  }
 ],
 "metadata": {
  "kernelspec": {
   "display_name": "Python 3 (ipykernel)",
   "language": "python",
   "name": "python3"
  },
  "language_info": {
   "codemirror_mode": {
    "name": "ipython",
    "version": 3
   },
   "file_extension": ".py",
   "mimetype": "text/x-python",
   "name": "python",
   "nbconvert_exporter": "python",
   "pygments_lexer": "ipython3",
   "version": "3.9.13"
  }
 },
 "nbformat": 4,
 "nbformat_minor": 5
}
