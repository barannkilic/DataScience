{
 "cells": [
  {
   "cell_type": "markdown",
   "id": "1ca987a0-cfa5-4e01-8abf-40c1809c91cc",
   "metadata": {},
   "source": [
    "## Varyans Analizi"
   ]
  },
  {
   "cell_type": "markdown",
   "id": "06f43ce4-7cdb-4c53-ba45-61b9cac66795",
   "metadata": {},
   "source": [
    "H0: M1 = M2 = M3 (Grup ortalamalari arasinda istatisitksel anlamli farklilik yoktur.-------                                                                               H1: Fark vardir"
   ]
  },
  {
   "cell_type": "code",
   "execution_count": 3,
   "id": "a77017f5-f8db-4acc-9fbf-8f054473a3d3",
   "metadata": {},
   "outputs": [
    {
     "data": {
      "text/html": [
       "<div>\n",
       "<style scoped>\n",
       "    .dataframe tbody tr th:only-of-type {\n",
       "        vertical-align: middle;\n",
       "    }\n",
       "\n",
       "    .dataframe tbody tr th {\n",
       "        vertical-align: top;\n",
       "    }\n",
       "\n",
       "    .dataframe thead th {\n",
       "        text-align: right;\n",
       "    }\n",
       "</style>\n",
       "<table border=\"1\" class=\"dataframe\">\n",
       "  <thead>\n",
       "    <tr style=\"text-align: right;\">\n",
       "      <th></th>\n",
       "      <th>GRUP_A</th>\n",
       "      <th>GRUP_B</th>\n",
       "      <th>GRUP_C</th>\n",
       "    </tr>\n",
       "  </thead>\n",
       "  <tbody>\n",
       "    <tr>\n",
       "      <th>0</th>\n",
       "      <td>28</td>\n",
       "      <td>31</td>\n",
       "      <td>40</td>\n",
       "    </tr>\n",
       "    <tr>\n",
       "      <th>1</th>\n",
       "      <td>33</td>\n",
       "      <td>32</td>\n",
       "      <td>33</td>\n",
       "    </tr>\n",
       "    <tr>\n",
       "      <th>2</th>\n",
       "      <td>30</td>\n",
       "      <td>30</td>\n",
       "      <td>38</td>\n",
       "    </tr>\n",
       "    <tr>\n",
       "      <th>3</th>\n",
       "      <td>29</td>\n",
       "      <td>30</td>\n",
       "      <td>41</td>\n",
       "    </tr>\n",
       "    <tr>\n",
       "      <th>4</th>\n",
       "      <td>28</td>\n",
       "      <td>33</td>\n",
       "      <td>42</td>\n",
       "    </tr>\n",
       "  </tbody>\n",
       "</table>\n",
       "</div>"
      ],
      "text/plain": [
       "   GRUP_A  GRUP_B  GRUP_C\n",
       "0      28      31      40\n",
       "1      33      32      33\n",
       "2      30      30      38\n",
       "3      29      30      41\n",
       "4      28      33      42"
      ]
     },
     "execution_count": 3,
     "metadata": {},
     "output_type": "execute_result"
    }
   ],
   "source": [
    "import pandas as pd\n",
    "A = pd.DataFrame([28,33,30,29,28,29,27,31,30,32,28,33,25,29,27,31,31,30,31])\n",
    "\n",
    "B = pd.DataFrame([31,32,30,30,33,32,34,27,36,30,31,30,38,29,30,34,34,31,35])\n",
    "\n",
    "C = pd.DataFrame([40,33,38,41,42,43,38,35,39,39,36,34,35,40,38,36,39,36,33])\n",
    "\n",
    "dfs = [A, B, C]\n",
    "\n",
    "ABC = pd.concat(dfs, axis = 1) #birlestirme\n",
    "ABC.columns = [\"GRUP_A\",\"GRUP_B\",\"GRUP_C\"]\n",
    "ABC.head()"
   ]
  },
  {
   "cell_type": "markdown",
   "id": "e07f5d7f-d236-471e-b5aa-89fb16b03a6d",
   "metadata": {},
   "source": [
    "## VARSAYIM KONTROLU  "
   ]
  },
  {
   "cell_type": "markdown",
   "id": "b9d50583-1889-49e5-84f5-62c4449748b8",
   "metadata": {},
   "source": [
    "## 1) Grupların Bağımsızlıgı"
   ]
  },
  {
   "cell_type": "markdown",
   "id": "4d4273e6-b6b3-49cc-a71c-ba925b4df03d",
   "metadata": {},
   "source": [
    "1) Gruplar bagımsız, gruplar uce ayrildi ve bir gruptaki bireyin diger bir grupta herhangi bir olcume katilmadigi varsayildi."
   ]
  },
  {
   "cell_type": "markdown",
   "id": "407aa37d-6b69-477f-86b2-fcc7969c95b8",
   "metadata": {},
   "source": [
    "## 2) Normallik Varsayımı"
   ]
  },
  {
   "cell_type": "code",
   "execution_count": 4,
   "id": "c7ab6ec0-bd8b-4595-ab2d-474b376834f3",
   "metadata": {},
   "outputs": [],
   "source": [
    "from scipy.stats import shapiro"
   ]
  },
  {
   "cell_type": "code",
   "execution_count": 10,
   "id": "eb0304e6-0316-4eb0-8007-87c525a20343",
   "metadata": {},
   "outputs": [
    {
     "data": {
      "text/plain": [
       "ShapiroResult(statistic=0.9680846333503723, pvalue=0.7376047372817993)"
      ]
     },
     "execution_count": 10,
     "metadata": {},
     "output_type": "execute_result"
    }
   ],
   "source": [
    "shapiro(ABC[\"GRUP_A\"])"
   ]
  },
  {
   "cell_type": "code",
   "execution_count": 11,
   "id": "dfbf3429-4d7e-4591-897d-94cd143fdf5a",
   "metadata": {},
   "outputs": [
    {
     "data": {
      "text/plain": [
       "ShapiroResult(statistic=0.9565114378929138, pvalue=0.5057767033576965)"
      ]
     },
     "execution_count": 11,
     "metadata": {},
     "output_type": "execute_result"
    }
   ],
   "source": [
    "shapiro(ABC[\"GRUP_A\"])"
   ]
  },
  {
   "cell_type": "code",
   "execution_count": 12,
   "id": "0a793df2-ebeb-4c7a-999b-a5ea539f1bc2",
   "metadata": {},
   "outputs": [
    {
     "data": {
      "text/plain": [
       "ShapiroResult(statistic=0.9644769430160522, pvalue=0.663072407245636)"
      ]
     },
     "execution_count": 12,
     "metadata": {},
     "output_type": "execute_result"
    }
   ],
   "source": [
    "shapiro(ABC[\"GRUP_C\"])"
   ]
  },
  {
   "cell_type": "markdown",
   "id": "3d2faec0-07f9-4d04-ac88-ed582da692b7",
   "metadata": {},
   "source": [
    "Uc grubunda P-Value < 0.05 DEGIL. H0:REDDEDİLEMEZ. Ornek ve teorik dagilimlar arasinda anlamli farklilik yoktur."
   ]
  },
  {
   "cell_type": "markdown",
   "id": "1d91caf6-6fe0-4cbd-9b14-2d16815e406f",
   "metadata": {},
   "source": [
    "## 3) Varyans Homojenligi Varsayımı"
   ]
  },
  {
   "cell_type": "code",
   "execution_count": 18,
   "id": "02ac7972-ce74-423d-9d78-ae50dc130f30",
   "metadata": {},
   "outputs": [
    {
     "data": {
      "text/plain": [
       "LeveneResult(statistic=0.846827133479212, pvalue=0.434387404415306)"
      ]
     },
     "execution_count": 18,
     "metadata": {},
     "output_type": "execute_result"
    }
   ],
   "source": [
    "from scipy.stats import levene\n",
    "levene(ABC[\"GRUP_A\"],ABC[\"GRUP_B\"],ABC[\"GRUP_C\"])"
   ]
  },
  {
   "cell_type": "markdown",
   "id": "9a281501-d7fc-48f0-91f7-89984ffc747a",
   "metadata": {},
   "source": [
    "P-Value < 0.05 DEGIL. H0:REDDEDİLEMEZ. Varyanslar Homojendir"
   ]
  },
  {
   "cell_type": "markdown",
   "id": "267b6e21-6143-4845-b79b-dbdd1cb84304",
   "metadata": {},
   "source": [
    "## VARYANS ANALIZI HIPOTEZ TESTININ UYGULANMASI"
   ]
  },
  {
   "cell_type": "code",
   "execution_count": 19,
   "id": "9d481249-26c8-4e5a-b4e7-835d0997bec6",
   "metadata": {},
   "outputs": [],
   "source": [
    "from scipy.stats import f_oneway"
   ]
  },
  {
   "cell_type": "code",
   "execution_count": 20,
   "id": "dc2a4a7b-363d-424c-99bd-85062c2b208b",
   "metadata": {},
   "outputs": [
    {
     "data": {
      "text/plain": [
       "F_onewayResult(statistic=48.01294219154445, pvalue=1.0426636549790477e-12)"
      ]
     },
     "execution_count": 20,
     "metadata": {},
     "output_type": "execute_result"
    }
   ],
   "source": [
    "f_oneway(ABC[\"GRUP_A\"],ABC[\"GRUP_B\"],ABC[\"GRUP_C\"])"
   ]
  },
  {
   "cell_type": "code",
   "execution_count": 21,
   "id": "6a2d3837-b90e-41bd-bf22-832edec0a9fd",
   "metadata": {},
   "outputs": [
    {
     "name": "stdout",
     "output_type": "stream",
     "text": [
      "Test İstatistigi = 48.01294219, p-degeri = 0.00000000\n"
     ]
    }
   ],
   "source": [
    "test_istatistigi,pvalue = f_oneway(ABC[\"GRUP_A\"],ABC[\"GRUP_B\"],ABC[\"GRUP_C\"])\n",
    "print(\"Test İstatistigi = %.8f, p-degeri = %.8f\" % (test_istatistigi,pvalue))"
   ]
  },
  {
   "cell_type": "markdown",
   "id": "2019bbb9-9944-469f-9f3a-4a76e821fa10",
   "metadata": {},
   "source": [
    "P-Value < 0.05 oldugundan dolayi H0:REDDEDİLİYOR. Grup ortalamalari arasinda anlamli bir farklilk vardir. "
   ]
  },
  {
   "cell_type": "code",
   "execution_count": 28,
   "id": "2689c1cd-7f3e-40c7-bb64-8d6bf89d8822",
   "metadata": {},
   "outputs": [
    {
     "data": {
      "text/html": [
       "<div>\n",
       "<style scoped>\n",
       "    .dataframe tbody tr th:only-of-type {\n",
       "        vertical-align: middle;\n",
       "    }\n",
       "\n",
       "    .dataframe tbody tr th {\n",
       "        vertical-align: top;\n",
       "    }\n",
       "\n",
       "    .dataframe thead th {\n",
       "        text-align: right;\n",
       "    }\n",
       "</style>\n",
       "<table border=\"1\" class=\"dataframe\">\n",
       "  <thead>\n",
       "    <tr style=\"text-align: right;\">\n",
       "      <th></th>\n",
       "      <th>count</th>\n",
       "      <th>mean</th>\n",
       "      <th>std</th>\n",
       "      <th>min</th>\n",
       "      <th>25%</th>\n",
       "      <th>50%</th>\n",
       "      <th>75%</th>\n",
       "      <th>max</th>\n",
       "    </tr>\n",
       "  </thead>\n",
       "  <tbody>\n",
       "    <tr>\n",
       "      <th>GRUP_A</th>\n",
       "      <td>19.0</td>\n",
       "      <td>29.578947</td>\n",
       "      <td>2.116491</td>\n",
       "      <td>25.0</td>\n",
       "      <td>28.0</td>\n",
       "      <td>30.0</td>\n",
       "      <td>31.0</td>\n",
       "      <td>33.0</td>\n",
       "    </tr>\n",
       "    <tr>\n",
       "      <th>GRUP_B</th>\n",
       "      <td>19.0</td>\n",
       "      <td>31.947368</td>\n",
       "      <td>2.697194</td>\n",
       "      <td>27.0</td>\n",
       "      <td>30.0</td>\n",
       "      <td>31.0</td>\n",
       "      <td>34.0</td>\n",
       "      <td>38.0</td>\n",
       "    </tr>\n",
       "    <tr>\n",
       "      <th>GRUP_C</th>\n",
       "      <td>19.0</td>\n",
       "      <td>37.631579</td>\n",
       "      <td>2.928984</td>\n",
       "      <td>33.0</td>\n",
       "      <td>35.5</td>\n",
       "      <td>38.0</td>\n",
       "      <td>39.5</td>\n",
       "      <td>43.0</td>\n",
       "    </tr>\n",
       "  </tbody>\n",
       "</table>\n",
       "</div>"
      ],
      "text/plain": [
       "        count       mean       std   min   25%   50%   75%   max\n",
       "GRUP_A   19.0  29.578947  2.116491  25.0  28.0  30.0  31.0  33.0\n",
       "GRUP_B   19.0  31.947368  2.697194  27.0  30.0  31.0  34.0  38.0\n",
       "GRUP_C   19.0  37.631579  2.928984  33.0  35.5  38.0  39.5  43.0"
      ]
     },
     "execution_count": 28,
     "metadata": {},
     "output_type": "execute_result"
    }
   ],
   "source": [
    "ABC.describe().T # \".T\"__TRANSPOZ"
   ]
  },
  {
   "cell_type": "markdown",
   "id": "d6d1498d-ed25-485e-bcd1-6ec70c71d796",
   "metadata": {},
   "source": [
    "## Nonparametrik Hipotez Testi"
   ]
  },
  {
   "cell_type": "markdown",
   "id": "f6866efd-bd1d-4565-959b-ed436cfa7f70",
   "metadata": {},
   "source": [
    "Varsayalım ki varsayımlarımız sağlanmadı."
   ]
  },
  {
   "cell_type": "code",
   "execution_count": 25,
   "id": "33055256-ee85-409f-ad5c-fa7201682f26",
   "metadata": {},
   "outputs": [],
   "source": [
    "from scipy.stats import kruskal"
   ]
  },
  {
   "cell_type": "code",
   "execution_count": 26,
   "id": "5f90d507-fbe7-4242-b080-0380bc2eb854",
   "metadata": {},
   "outputs": [
    {
     "data": {
      "text/plain": [
       "KruskalResult(statistic=35.511099275854036, pvalue=1.9447454724728574e-08)"
      ]
     },
     "execution_count": 26,
     "metadata": {},
     "output_type": "execute_result"
    }
   ],
   "source": [
    "kruskal(ABC[\"GRUP_A\"],ABC[\"GRUP_B\"],ABC[\"GRUP_C\"])"
   ]
  },
  {
   "cell_type": "code",
   "execution_count": 27,
   "id": "d3fcb73f-411b-4e73-84a2-296fdf99a1d4",
   "metadata": {},
   "outputs": [
    {
     "name": "stdout",
     "output_type": "stream",
     "text": [
      "Test İstatistigi = 35.51109928, p-degeri = 0.00000002\n"
     ]
    }
   ],
   "source": [
    "test_istatistigi,pvalue = kruskal(ABC[\"GRUP_A\"],ABC[\"GRUP_B\"],ABC[\"GRUP_C\"])\n",
    "print(\"Test İstatistigi = %.8f, p-degeri = %.8f\" % (test_istatistigi,pvalue))"
   ]
  },
  {
   "cell_type": "markdown",
   "id": "6526d391-1051-4b36-9dae-7ab0dfd85bf2",
   "metadata": {},
   "source": [
    "P-Value < 0.05 oldugundan dolayi H0:REDDEDİLİYOR. Grup ortalamalari arasinda anlamli bir farklilk vardir. "
   ]
  },
  {
   "cell_type": "code",
   "execution_count": null,
   "id": "0cc1caf4-c966-453b-8084-b7e6e2cb95ef",
   "metadata": {},
   "outputs": [],
   "source": []
  }
 ],
 "metadata": {
  "kernelspec": {
   "display_name": "Python 3 (ipykernel)",
   "language": "python",
   "name": "python3"
  },
  "language_info": {
   "codemirror_mode": {
    "name": "ipython",
    "version": 3
   },
   "file_extension": ".py",
   "mimetype": "text/x-python",
   "name": "python",
   "nbconvert_exporter": "python",
   "pygments_lexer": "ipython3",
   "version": "3.9.13"
  }
 },
 "nbformat": 4,
 "nbformat_minor": 5
}
