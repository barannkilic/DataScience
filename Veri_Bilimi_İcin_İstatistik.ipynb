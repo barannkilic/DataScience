{
 "cells": [
  {
   "cell_type": "code",
   "execution_count": 4,
   "id": "f4086be5-f7fe-4ec8-a067-4ca89ca2022e",
   "metadata": {},
   "outputs": [],
   "source": [
    "import numpy as np"
   ]
  },
  {
   "cell_type": "code",
   "execution_count": 7,
   "id": "e79f0227-5fd0-40f4-b645-b61e1c8240b7",
   "metadata": {},
   "outputs": [],
   "source": [
    "yigin = np.random.randint(0,80,10000)"
   ]
  },
  {
   "cell_type": "code",
   "execution_count": 8,
   "id": "da68557a-8bba-4db2-9d45-37ad95b635fc",
   "metadata": {},
   "outputs": [
    {
     "data": {
      "text/plain": [
       "array([46, 23, 27, 46, 70, 41, 30, 49, 34, 56])"
      ]
     },
     "execution_count": 8,
     "metadata": {},
     "output_type": "execute_result"
    }
   ],
   "source": [
    "yigin[0:10]"
   ]
  },
  {
   "cell_type": "code",
   "execution_count": 9,
   "id": "e7f98c36-4e69-4cc2-a5ef-bdada9307732",
   "metadata": {},
   "outputs": [
    {
     "data": {
      "text/plain": [
       "array([59, 28, 65, 25, 38,  0, 19, 30, 50,  6])"
      ]
     },
     "execution_count": 9,
     "metadata": {},
     "output_type": "execute_result"
    }
   ],
   "source": [
    "#orneklem cekimi\n",
    "np.random.seed(115) #seed__yapilacak olan islemlerin her tekrarda ayni sonuc \n",
    "#getirmesini garanti altina aliyor\n",
    "orneklem = np.random.choice(a = yigin, size = 100) #yigin icinden rasgele\n",
    "#100 örnek sec\n",
    "orneklem[0:10]"
   ]
  },
  {
   "cell_type": "code",
   "execution_count": 10,
   "id": "9feadf5f-3089-43ba-8fe1-0b2e75b9cd05",
   "metadata": {},
   "outputs": [
    {
     "data": {
      "text/plain": [
       "40.24"
      ]
     },
     "execution_count": 10,
     "metadata": {},
     "output_type": "execute_result"
    }
   ],
   "source": [
    "orneklem.mean()"
   ]
  },
  {
   "cell_type": "code",
   "execution_count": 11,
   "id": "a2cb7fc9-0809-4bc8-b1b3-4248bfe86623",
   "metadata": {},
   "outputs": [
    {
     "data": {
      "text/plain": [
       "39.9372"
      ]
     },
     "execution_count": 11,
     "metadata": {},
     "output_type": "execute_result"
    }
   ],
   "source": [
    "yigin.mean()"
   ]
  },
  {
   "cell_type": "code",
   "execution_count": 12,
   "id": "0481f67f-392b-4e94-aba1-2dbcc38afcbf",
   "metadata": {},
   "outputs": [],
   "source": [
    "#orneklem dagilimi"
   ]
  },
  {
   "cell_type": "code",
   "execution_count": 13,
   "id": "d67cd4a8-3385-47be-8c54-77fbdea555a5",
   "metadata": {},
   "outputs": [],
   "source": [
    "np.random.seed(10)\n",
    "orneklem1 = np.random.choice(a = yigin, size =100)\n",
    "orneklem2 = np.random.choice(a = yigin, size =100)\n",
    "orneklem3 = np.random.choice(a = yigin, size =100)\n",
    "orneklem4 = np.random.choice(a = yigin, size =100)\n",
    "orneklem5 = np.random.choice(a = yigin, size =100)\n",
    "orneklem6 = np.random.choice(a = yigin, size =100)\n",
    "orneklem7 = np.random.choice(a = yigin, size =100)\n",
    "orneklem8 = np.random.choice(a = yigin, size =100)\n",
    "orneklem9 = np.random.choice(a = yigin, size =100)\n",
    "orneklem10 = np.random.choice(a = yigin, size =100)"
   ]
  },
  {
   "cell_type": "code",
   "execution_count": 14,
   "id": "d3df7ce5-8376-4755-a4fb-669e509b228b",
   "metadata": {},
   "outputs": [],
   "source": [
    "orneklemler_ort = (orneklem1.mean() + orneklem2.mean() + orneklem3.mean() + orneklem4.mean() + \n",
    "orneklem5.mean() + orneklem6.mean() + orneklem7.mean() + orneklem8.mean() +\n",
    "orneklem9.mean() + orneklem10.mean()) / 10"
   ]
  },
  {
   "cell_type": "code",
   "execution_count": 15,
   "id": "08f1fb76-4954-4197-adb2-865a6c4f1311",
   "metadata": {},
   "outputs": [
    {
     "data": {
      "text/plain": [
       "38.747"
      ]
     },
     "execution_count": 15,
     "metadata": {},
     "output_type": "execute_result"
    }
   ],
   "source": [
    "orneklemler_ort"
   ]
  },
  {
   "cell_type": "code",
   "execution_count": null,
   "id": "95ce621d-fe61-44f7-9402-70616cdbbbf9",
   "metadata": {
    "tags": []
   },
   "outputs": [],
   "source": [
    "##MERKEZİ LİMİT TEOREMİ ARACILIĞLA _ YIGIN ORTALAMASINA\n",
    "#GİDİYORUZ"
   ]
  },
  {
   "cell_type": "code",
   "execution_count": null,
   "id": "fff1395d-4634-403f-b477-d852c35aac1b",
   "metadata": {},
   "outputs": [],
   "source": []
  },
  {
   "cell_type": "code",
   "execution_count": null,
   "id": "1179855a-2e94-454a-a6f9-c2c2542ff93e",
   "metadata": {},
   "outputs": [],
   "source": []
  }
 ],
 "metadata": {
  "kernelspec": {
   "display_name": "Python 3 (ipykernel)",
   "language": "python",
   "name": "python3"
  },
  "language_info": {
   "codemirror_mode": {
    "name": "ipython",
    "version": 3
   },
   "file_extension": ".py",
   "mimetype": "text/x-python",
   "name": "python",
   "nbconvert_exporter": "python",
   "pygments_lexer": "ipython3",
   "version": "3.9.13"
  }
 },
 "nbformat": 4,
 "nbformat_minor": 5
}
